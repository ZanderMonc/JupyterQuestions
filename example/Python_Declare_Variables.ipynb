{
 "cells": [
  {
   "cell_type": "code",
   "execution_count": 4,
   "id": "ba6f5c8f",
   "metadata": {},
   "outputs": [
    {
     "name": "stdout",
     "output_type": "stream",
     "text": [
      "Please run all cells in order\n"
     ]
    }
   ],
   "source": [
    "from Python_Declare_Variables import *\n",
    "score=0\n",
    "print(f'Please run all cells in order')"
   ]
  },
  {
   "cell_type": "code",
   "execution_count": null,
   "id": "0925763a",
   "metadata": {},
   "outputs": [
    {
     "name": "stdout",
     "output_type": "stream",
     "text": [
      "Question name : Python Declare - Assign numeric multiple choice\n",
      "\n",
      " prompt = 'Hello'\n",
      "a = 4\n",
      "b = len(prompt)\n",
      "c = 6\n",
      "c = a\n",
      "a = b\n",
      "a = c\n",
      "c = a + b + c\n",
      " What does c equal?\n",
      "\n",
      "--------------------\n",
      "A: 4\n",
      "B:  15\n",
      "\n",
      "C:  13\n",
      "\n",
      "D:  14\n",
      "\n",
      "E:  Error\n",
      "\n"
     ]
    }
   ],
   "source": [
    "feedbackquestion1 = question1()\n",
    "score = answer1(feedbackquestion1, score)"
   ]
  },
  {
   "cell_type": "code",
   "execution_count": null,
   "id": "143efd30",
   "metadata": {},
   "outputs": [],
   "source": [
    "feedbackquestion2 = question2()\n",
    "score = answer2(feedbackquestion2, score)"
   ]
  },
  {
   "cell_type": "code",
   "execution_count": null,
   "id": "9d6a4201",
   "metadata": {},
   "outputs": [],
   "source": [
    "feedbackquestion3 = question3()\n",
    "score = answer3(feedbackquestion3, score)"
   ]
  },
  {
   "cell_type": "code",
   "execution_count": null,
   "id": "09f555e1",
   "metadata": {},
   "outputs": [],
   "source": [
    "feedbackquestion4 = question4()\n",
    "score = answer4(feedbackquestion4, score)"
   ]
  },
  {
   "cell_type": "code",
   "execution_count": null,
   "id": "82eb2737",
   "metadata": {},
   "outputs": [],
   "source": [
    "feedbackquestion5 = question5()\n",
    "score = answer5(feedbackquestion5, score)"
   ]
  },
  {
   "cell_type": "code",
   "execution_count": null,
   "id": "70d38425",
   "metadata": {},
   "outputs": [],
   "source": [
    "feedbackquestion6 = question6()\n",
    "score = answer6(feedbackquestion6, score)"
   ]
  },
  {
   "cell_type": "code",
   "execution_count": null,
   "id": "ebb5633c",
   "metadata": {},
   "outputs": [],
   "source": [
    "\n",
    "import shelve\n",
    "with shelve.open('run_once_flag') as db:\n",
    "    if not db.get('already_run',False):\n",
    "        db['already_run'] = True\n",
    "        print(f'You scored {score} out of 6')\n",
    "        print('This cell will not run again')\n",
    "    else:\n",
    "        print(\"you have finished your attempt already\")\n",
    "        print('This cell will not run again')"
   ]
  },
  {
   "cell_type": "code",
   "execution_count": 8,
   "id": "cb90249a",
   "metadata": {},
   "outputs": [
    {
     "name": "stdout",
     "output_type": "stream",
     "text": [
      "Question: Python Declare - Assign numeric multiple choice\n",
      "prompt = 'Hello'\n",
      "a = 4\n",
      "b = len(prompt)\n",
      "c = 6\n",
      "c = a\n",
      "a = b\n",
      "a = c\n",
      "c = a + b + c\n",
      " What does c equal?\n",
      "Choices:\n",
      "A: 4\n",
      "B:  15\n",
      "\n",
      "C:  13\n",
      "\n",
      "D:  14\n",
      "\n",
      "E:  Error\n",
      "\n",
      "Your answer: \n",
      "Incorrect! The correct answer is: C\n",
      "\n",
      "Question: Python Declare - Assign numeric multiple choice\n",
      "prompt = 'Hello'\n",
      "a = 4\n",
      "b = len(prompt)\n",
      "c = 6\n",
      "c = a\n",
      "a = b\n",
      "a = c\n",
      "c = a + b + c\n",
      "\n",
      " What is the final value of  c\n",
      "?\n",
      "Choices:\n",
      "A: 4\n",
      "B:  15\n",
      "\n",
      "C:  13\n",
      "\n",
      "D:  14\n",
      "\n",
      "E:  Error\n",
      "\n",
      "Your answer: \n",
      "Incorrect! The correct answer is: C\n",
      "\n",
      "Question: What is '2' in the following code?\n",
      "What best describes the artefact  2  in the following code?\n",
      " result = result*2\n",
      "Choices:\n",
      "A:  Value\n",
      "\n",
      "B:  Statement\n",
      "\n",
      "C:  Operator\n",
      "\n",
      "D:  Variable\n",
      "\n",
      "E:  Expression\n",
      "\n",
      "F:  None of the above\n",
      "\n",
      "Your answer: \n",
      "Incorrect! The correct answer is: A\n",
      "\n",
      "Question: What is 'result = result*2' in the following code?\n",
      "What is best describes the artefact  result = result*2 &nbsp;in the following code?\n",
      " result = result*2\n",
      "Choices:\n",
      "A:  Value\n",
      "\n",
      "B:  Statement\n",
      "\n",
      "C:  Operator\n",
      "\n",
      "D:  Variable\n",
      "\n",
      "E:  Expression\n",
      "\n",
      "F:  None of the above\n",
      "\n",
      "Your answer: \n",
      "Incorrect! The correct answer is: B\n",
      "\n",
      "Question: What is 'result' in the following code?\n",
      "What best describes the artefact  result &nbsp;in the following code?\n",
      " result = result*2\n",
      "Choices:\n",
      "A:  Value\n",
      "\n",
      "B:  Statement\n",
      "\n",
      "C:  Operator\n",
      "\n",
      "D:  Variable\n",
      "\n",
      "E:  Expression\n",
      "\n",
      "F:  None of the above\n",
      "\n",
      "Your answer: \n",
      "Incorrect! The correct answer is: D\n",
      "\n",
      "Question: What is 'result*2' in the following code?\n",
      "What best describes the artefact  result*2  in the following code?\n",
      " result = result*2\n",
      "Choices:\n",
      "A:  Value\n",
      "\n",
      "B:  Statement\n",
      "\n",
      "C:  Operator\n",
      "\n",
      "D:  Variable\n",
      "\n",
      "E:  Expression\n",
      "\n",
      "F:  None of the above\n",
      "\n",
      "Your answer: \n",
      "Incorrect! The correct answer is: E\n",
      "\n",
      "Quiz complete! Here are your results: \n",
      "question1: 0\n",
      "question2: 0\n",
      "question3: 0\n",
      "question4: 0\n",
      "question5: 0\n",
      "question6: 0\n",
      "Score: 0/6\n",
      "links0.0\n",
      "Click this generic link for further information: https://www.google.com\n"
     ]
    }
   ],
   "source": [
    "import sys\n",
    "sys.path.append('..')\n",
    "from main import *\n",
    "quizrun(quizpath=\"./Python_Declare_Variables.json\")"
   ]
  },
  {
   "cell_type": "code",
   "execution_count": null,
   "id": "4d6b31f7-9912-4fd9-99dc-79458b76d01e",
   "metadata": {},
   "outputs": [],
   "source": []
  }
 ],
 "metadata": {
  "kernelspec": {
   "display_name": "venv",
   "language": "python",
   "name": "python3"
  },
  "language_info": {
   "codemirror_mode": {
    "name": "ipython",
    "version": 3
   },
   "file_extension": ".py",
   "mimetype": "text/x-python",
   "name": "python",
   "nbconvert_exporter": "python",
   "pygments_lexer": "ipython3",
   "version": "3.12.7"
  }
 },
 "nbformat": 4,
 "nbformat_minor": 5
}

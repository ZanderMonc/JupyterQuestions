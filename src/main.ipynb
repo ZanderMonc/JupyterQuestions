{
 "cells": [
  {
   "cell_type": "code",
   "execution_count": 2,
   "id": "edc571ed-8316-4cfb-b777-0edeb8412b37",
   "metadata": {},
   "outputs": [
    {
     "name": "stdout",
     "output_type": "stream",
     "text": [
      "Control notebook created at C:\\Users\\asder\\2555900m_JPNotebookQuestions\\src\\user\\control.ipynb\n"
     ]
    }
   ],
   "source": [
    "#RUN THIS CELL TO PRODUCE CONTROL NOTEBOOK \n",
    "from main import *\n",
    "main()"
   ]
  },
  {
   "cell_type": "code",
   "execution_count": null,
   "id": "c63df985-b1f5-4374-b42e-f8bf36b48d73",
   "metadata": {},
   "outputs": [],
   "source": []
  }
 ],
 "metadata": {
  "kernelspec": {
   "display_name": "Python 3 (ipykernel)",
   "language": "python",
   "name": "python3"
  },
  "language_info": {
   "codemirror_mode": {
    "name": "ipython",
    "version": 3
   },
   "file_extension": ".py",
   "mimetype": "text/x-python",
   "name": "python",
   "nbconvert_exporter": "python",
   "pygments_lexer": "ipython3",
   "version": "3.12.8"
  }
 },
 "nbformat": 4,
 "nbformat_minor": 5
}

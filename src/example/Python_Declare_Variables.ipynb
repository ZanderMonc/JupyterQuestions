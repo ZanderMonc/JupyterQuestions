{
 "cells": [
  {
   "cell_type": "code",
   "execution_count": null,
   "id": "ba6f5c8f",
   "metadata": {},
   "outputs": [],
   "source": [
    "from Python_Declare_Variables import *\n",
    "score=0\n",
    "print(f'Please run all cells in order')"
   ]
  },
  {
   "cell_type": "code",
   "execution_count": null,
   "id": "0925763a",
   "metadata": {},
   "outputs": [],
   "source": [
    "feedbackquestion1 = question1()\n",
    "score = answer1(feedbackquestion1, score)"
   ]
  },
  {
   "cell_type": "code",
   "execution_count": null,
   "id": "143efd30",
   "metadata": {},
   "outputs": [],
   "source": [
    "feedbackquestion2 = question2()\n",
    "score = answer2(feedbackquestion2, score)"
   ]
  },
  {
   "cell_type": "code",
   "execution_count": null,
   "id": "9d6a4201",
   "metadata": {},
   "outputs": [],
   "source": [
    "feedbackquestion3 = question3()\n",
    "score = answer3(feedbackquestion3, score)"
   ]
  },
  {
   "cell_type": "code",
   "execution_count": null,
   "id": "09f555e1",
   "metadata": {},
   "outputs": [],
   "source": [
    "feedbackquestion4 = question4()\n",
    "score = answer4(feedbackquestion4, score)"
   ]
  },
  {
   "cell_type": "code",
   "execution_count": null,
   "id": "82eb2737",
   "metadata": {},
   "outputs": [],
   "source": [
    "feedbackquestion5 = question5()\n",
    "score = answer5(feedbackquestion5, score)"
   ]
  },
  {
   "cell_type": "code",
   "execution_count": null,
   "id": "70d38425",
   "metadata": {},
   "outputs": [],
   "source": [
    "feedbackquestion6 = question6()\n",
    "score = answer6(feedbackquestion6, score)"
   ]
  },
  {
   "cell_type": "code",
   "execution_count": null,
   "id": "ebb5633c",
   "metadata": {},
   "outputs": [],
   "source": [
    "\n",
    "import shelve\n",
    "with shelve.open('run_once_flag') as db:\n",
    "    if not db.get('already_run',False):\n",
    "        db['already_run'] = True\n",
    "        print(f'You scored {score} out of 6')\n",
    "        print('This cell will not run again')\n",
    "    else:\n",
    "        print(\"you have finished your attempt already\")\n",
    "        print('This cell will not run again')"
   ]
  },
  {
   "cell_type": "code",
   "execution_count": 1,
   "id": "cb90249a",
   "metadata": {},
   "outputs": [
    {
     "ename": "ModuleNotFoundError",
     "evalue": "No module named 'src'",
     "output_type": "error",
     "traceback": [
      "\u001b[31m---------------------------------------------------------------------------\u001b[39m",
      "\u001b[31mModuleNotFoundError\u001b[39m                       Traceback (most recent call last)",
      "\u001b[36mCell\u001b[39m\u001b[36m \u001b[39m\u001b[32mIn[1]\u001b[39m\u001b[32m, line 3\u001b[39m\n\u001b[32m      1\u001b[39m \u001b[38;5;28;01mimport\u001b[39;00m\u001b[38;5;250m \u001b[39m\u001b[34;01msys\u001b[39;00m\n\u001b[32m      2\u001b[39m sys.path.append(\u001b[33m'\u001b[39m\u001b[33m..\u001b[39m\u001b[33m'\u001b[39m)\n\u001b[32m----> \u001b[39m\u001b[32m3\u001b[39m \u001b[38;5;28;01mfrom\u001b[39;00m\u001b[38;5;250m \u001b[39m\u001b[34;01mmain\u001b[39;00m\u001b[38;5;250m \u001b[39m\u001b[38;5;28;01mimport\u001b[39;00m *\n\u001b[32m      4\u001b[39m quizrun(quizpath=\u001b[33m\"\u001b[39m\u001b[33m./Python_Declare_Variables.json\u001b[39m\u001b[33m\"\u001b[39m)\n",
      "\u001b[36mFile \u001b[39m\u001b[32mc:\\Users\\asder\\JupyterQuestions-1\\src\\example\\..\\main.py:5\u001b[39m\n\u001b[32m      2\u001b[39m \u001b[38;5;28;01mimport\u001b[39;00m\u001b[38;5;250m \u001b[39m\u001b[34;01mjson\u001b[39;00m\n\u001b[32m      3\u001b[39m \u001b[38;5;28;01mfrom\u001b[39;00m\u001b[38;5;250m \u001b[39m\u001b[34;01mxml\u001b[39;00m\u001b[34;01m.\u001b[39;00m\u001b[34;01metree\u001b[39;00m\u001b[38;5;250m \u001b[39m\u001b[38;5;28;01mimport\u001b[39;00m ElementTree \u001b[38;5;28;01mas\u001b[39;00m ET\n\u001b[32m----> \u001b[39m\u001b[32m5\u001b[39m \u001b[38;5;28;01mfrom\u001b[39;00m\u001b[38;5;250m \u001b[39m\u001b[34;01mconversion\u001b[39;00m\u001b[34;01m.\u001b[39;00m\u001b[34;01mjson_functions\u001b[39;00m\u001b[38;5;250m \u001b[39m\u001b[38;5;28;01mimport\u001b[39;00m *\n\u001b[32m      6\u001b[39m \u001b[38;5;28;01mfrom\u001b[39;00m\u001b[38;5;250m \u001b[39m\u001b[34;01mconversion\u001b[39;00m\u001b[34;01m.\u001b[39;00m\u001b[34;01mxml_functions\u001b[39;00m\u001b[38;5;250m \u001b[39m\u001b[38;5;28;01mimport\u001b[39;00m *\n\u001b[32m      7\u001b[39m \u001b[38;5;28;01mfrom\u001b[39;00m\u001b[38;5;250m \u001b[39m\u001b[34;01mconversion\u001b[39;00m\u001b[34;01m.\u001b[39;00m\u001b[34;01mnotebook_functions\u001b[39;00m\u001b[38;5;250m \u001b[39m\u001b[38;5;28;01mimport\u001b[39;00m *\n",
      "\u001b[36mFile \u001b[39m\u001b[32mc:\\Users\\asder\\JupyterQuestions-1\\src\\example\\..\\conversion\\json_functions.py:4\u001b[39m\n\u001b[32m      2\u001b[39m \u001b[38;5;28;01mimport\u001b[39;00m\u001b[38;5;250m \u001b[39m\u001b[34;01mos\u001b[39;00m\n\u001b[32m      3\u001b[39m \u001b[38;5;28;01mimport\u001b[39;00m\u001b[38;5;250m \u001b[39m\u001b[34;01mxml\u001b[39;00m\u001b[34;01m.\u001b[39;00m\u001b[34;01metree\u001b[39;00m\u001b[34;01m.\u001b[39;00m\u001b[34;01mElementTree\u001b[39;00m\u001b[38;5;250m \u001b[39m\u001b[38;5;28;01mas\u001b[39;00m\u001b[38;5;250m \u001b[39m\u001b[34;01mETree\u001b[39;00m\n\u001b[32m----> \u001b[39m\u001b[32m4\u001b[39m \u001b[38;5;28;01mfrom\u001b[39;00m\u001b[38;5;250m \u001b[39m\u001b[34;01msrc\u001b[39;00m\u001b[34;01m.\u001b[39;00m\u001b[34;01mconversion\u001b[39;00m\u001b[34;01m.\u001b[39;00m\u001b[34;01mxml_functions\u001b[39;00m\u001b[38;5;250m \u001b[39m\u001b[38;5;28;01mimport\u001b[39;00m format_xml_to_text, create_jupyter_cells, save_jupyter_cells\n\u001b[32m      7\u001b[39m \u001b[38;5;28;01mdef\u001b[39;00m\u001b[38;5;250m \u001b[39m\u001b[34mjson_to_jupytercells\u001b[39m(jsonfile, savecells = \u001b[38;5;28;01mTrue\u001b[39;00m):\n\u001b[32m      8\u001b[39m     \u001b[38;5;66;03m#takes a json file and converts it to a list of jupyter cells\u001b[39;00m\n\u001b[32m      9\u001b[39m     data = json.load(jsonfile)\n",
      "\u001b[31mModuleNotFoundError\u001b[39m: No module named 'src'"
     ]
    }
   ],
   "source": [
    "import sys\n",
    "sys.path.append('..')\n",
    "from main import *\n",
    "quizrun(quizpath=\"./Python_Declare_Variables.json\")"
   ]
  },
  {
   "cell_type": "code",
   "execution_count": null,
   "id": "4d6b31f7-9912-4fd9-99dc-79458b76d01e",
   "metadata": {},
   "outputs": [],
   "source": []
  }
 ],
 "metadata": {
  "kernelspec": {
   "display_name": "myenv",
   "language": "python",
   "name": "python3"
  },
  "language_info": {
   "codemirror_mode": {
    "name": "ipython",
    "version": 3
   },
   "file_extension": ".py",
   "mimetype": "text/x-python",
   "name": "python",
   "nbconvert_exporter": "python",
   "pygments_lexer": "ipython3",
   "version": "3.12.8"
  }
 },
 "nbformat": 4,
 "nbformat_minor": 5
}

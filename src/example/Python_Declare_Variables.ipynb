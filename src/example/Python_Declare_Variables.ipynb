{
 "cells": [
  {
   "cell_type": "code",
   "execution_count": null,
   "id": "ba6f5c8f",
   "metadata": {},
   "outputs": [],
   "source": [
    "from Python_Declare_Variables import *\n",
    "score=0\n",
    "print(f'Please run all cells in order')"
   ]
  },
  {
   "cell_type": "code",
   "execution_count": null,
   "id": "0925763a",
   "metadata": {},
   "outputs": [],
   "source": [
    "feedbackquestion1 = question1()\n",
    "score = answer1(feedbackquestion1, score)"
   ]
  },
  {
   "cell_type": "code",
   "execution_count": null,
   "id": "143efd30",
   "metadata": {},
   "outputs": [],
   "source": [
    "feedbackquestion2 = question2()\n",
    "score = answer2(feedbackquestion2, score)"
   ]
  },
  {
   "cell_type": "code",
   "execution_count": null,
   "id": "9d6a4201",
   "metadata": {},
   "outputs": [],
   "source": [
    "feedbackquestion3 = question3()\n",
    "score = answer3(feedbackquestion3, score)"
   ]
  },
  {
   "cell_type": "code",
   "execution_count": null,
   "id": "09f555e1",
   "metadata": {},
   "outputs": [],
   "source": [
    "feedbackquestion4 = question4()\n",
    "score = answer4(feedbackquestion4, score)"
   ]
  },
  {
   "cell_type": "code",
   "execution_count": null,
   "id": "82eb2737",
   "metadata": {},
   "outputs": [],
   "source": [
    "feedbackquestion5 = question5()\n",
    "score = answer5(feedbackquestion5, score)"
   ]
  },
  {
   "cell_type": "code",
   "execution_count": null,
   "id": "70d38425",
   "metadata": {},
   "outputs": [],
   "source": [
    "feedbackquestion6 = question6()\n",
    "score = answer6(feedbackquestion6, score)"
   ]
  },
  {
   "cell_type": "code",
   "execution_count": null,
   "id": "ebb5633c",
   "metadata": {},
   "outputs": [],
   "source": [
    "\n",
    "import shelve\n",
    "with shelve.open('run_once_flag') as db:\n",
    "    if not db.get('already_run',False):\n",
    "        db['already_run'] = True\n",
    "        print(f'You scored {score} out of 6')\n",
    "        print('This cell will not run again')\n",
    "    else:\n",
    "        print(\"you have finished your attempt already\")\n",
    "        print('This cell will not run again')"
   ]
  },
  {
   "cell_type": "code",
   "execution_count": null,
   "id": "cb90249a",
   "metadata": {},
   "outputs": [],
   "source": [
    "import sys\n",
    "sys.path.append('..')\n",
    "from main import *\n",
    "quizrun(\"Python\", \"Declare\")"
   ]
  }
 ],
 "metadata": {},
 "nbformat": 4,
 "nbformat_minor": 5
}
